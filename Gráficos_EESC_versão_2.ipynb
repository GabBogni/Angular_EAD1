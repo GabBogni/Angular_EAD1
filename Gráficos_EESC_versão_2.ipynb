{
  "nbformat": 4,
  "nbformat_minor": 0,
  "metadata": {
    "colab": {
      "name": "Gráficos EESC versão 2.ipynb",
      "provenance": [],
      "collapsed_sections": []
    },
    "kernelspec": {
      "display_name": "Python 3",
      "name": "python3"
    },
    "language_info": {
      "name": "python"
    }
  },
  "cells": [
    {
      "cell_type": "markdown",
      "source": [
        "O código abaixo precisa ser executado para conseguir acesso as pastas do drive"
      ],
      "metadata": {
        "id": "BtyNNXAtFpl1"
      }
    },
    {
      "cell_type": "code",
      "metadata": {
        "id": "uc9uMxBoktRS"
      },
      "source": [
        "from google.colab import drive\n",
        "drive.mount('/content/drive')"
      ],
      "execution_count": null,
      "outputs": []
    },
    {
      "cell_type": "markdown",
      "source": [
        "O código abaixo precisa ser executado para a maioria das funções funcionar, pois possui recursos que são usados por elas.\n",
        "\n",
        "Existe uma lista de cursos considerados que são usadas em diversas funções.\n",
        "\n",
        "Os cursos considerados contém a palavra ‘Engenharia’.\n",
        "\n",
        "Alguns cursos não devem ser considerados como:\n",
        "<ul>\n",
        "  <li>Licenciatura em Ciências Exatas/Habilitação em Matemática </li>\n",
        "  <li>Licenciatura em Ciências Exatas/Licenciatura em Ciências Exatas - Núcleo Geral</li>\n",
        "  <li>Licenciatura em Ciências Exatas/Habilitação em Física</li>\n",
        "  <li>Engenharia Civil/Dupla Formação EESC - IAU</li>\n",
        "  <li>Engenharia Mecânica/Engenharia Mecânica - Núcleo Geral</li>\n",
        "  <li>Engenharia Mecânica/Ênfase Mecânica Plena</li>\n",
        "  <li>Licenciatura em Ciências Exatas/Habilitação em Química</li>\n",
        "</ul>\n"
      ],
      "metadata": {
        "id": "gsBGNlNOFT1O"
      }
    },
    {
      "cell_type": "code",
      "metadata": {
        "id": "7xgXryT1d_RW"
      },
      "source": [
        "import matplotlib.pyplot as plt\n",
        "import pandas\n",
        "import xlrd\n",
        "import numpy\n",
        "from enum import Enum\n",
        "\n",
        "# Carregar arquivo\n",
        "diretorio_e_nome_do_arquivo = \"/content/drive/MyDrive/Estagio USP/Tabelas Bases para os Programas/Cópia de (Gerada 02.06.2022) [EESC _ ICMC] Ingressantes SISU_FUVEST - Ingressantes de 2015-2022.xlsx\"\n",
        "workbook = xlrd.open_workbook(diretorio_e_nome_do_arquivo)\n",
        "spreadsheet = workbook.sheet_by_index(0)\n",
        "\n",
        "# Enums\n",
        "class EESC(Enum):\n",
        "  ANO_INGRESSO = 0\n",
        "  CODIGO_CURSO = 1\n",
        "  NOME_CURSO = 2\n",
        "  CODIGO_HABILITACAO = 3\n",
        "  NOME_HABILITACAO = 4\n",
        "  TIPO_INGRESSO = 5\n",
        "  ACAO_AFIRMATIVA = 6\n",
        "  IDENTIFICACAO = 7\n",
        "  SEXO = 8\n",
        "  DATA_NASCIMENTO = 9\n",
        "  ORIGEM = 10\n",
        "  ESTADO = 11\n",
        "  DATA_ENCERRAMENTO = 12\n",
        "  TIPO_ENCERRAMENTO = 13\n",
        "  TIPO_BENEFICIO = 14\n",
        "  QUANTIDADE_DISCIPLINAS_REPROVADAS = 15\n",
        "  QUANTIDADE_DISCIPLINAS_APROVADAS = 16\n",
        "  MEDIA_PONDERADA_SUJA = 17\n",
        "  MEDIA_PONDERADA_LIMPA = 18\n",
        "\n",
        "\n",
        "# função utilizada para retornar certos cursos da quantidade de curso total. Isso é usado em diversas funções. \n",
        "\n",
        "def retornar_codigos_de_cursos_e_habilitacoes_considerados_da_EESC(codigoS_de_cursoS_e_habilitacOES_NAO_consideradoS):\n",
        "  coluna_codigo_curso = spreadsheet.col_values(EESC.CODIGO_CURSO.value)[1:]\n",
        "  coluna_codigo_habilitacao = spreadsheet.col_values(EESC.CODIGO_HABILITACAO.value)[1:]\n",
        "  coluna_nome_curso = spreadsheet.col_values(EESC.NOME_CURSO.value)[1:]\n",
        "  coluna_nome_habilitacao = spreadsheet.col_values(EESC.NOME_HABILITACAO.value)[1:]\n",
        "  \n",
        "  codigoS_de_cursoS_e_habilitacOES_consideradoS = []\n",
        "  codigoS_de_cursos_NAO_consideradoS = []\n",
        "\n",
        "  for codigo_curso, codigo_habilitacao, nome_curso, nome_habilitacao in zip(coluna_codigo_curso, coluna_codigo_habilitacao,\n",
        "                                                                            coluna_nome_curso, coluna_nome_habilitacao):\n",
        "      validacao_do_curso = True\n",
        "      for codigos_de_curso_e_habilitacao_NAO_consideradoS in codigoS_de_cursoS_e_habilitacOES_NAO_consideradoS:\n",
        "        if(\n",
        "          (codigos_de_curso_e_habilitacao_NAO_consideradoS['codigo_curso'] == codigo_curso and \n",
        "          codigos_de_curso_e_habilitacao_NAO_consideradoS.get('codigo_habilitacao')  == None)\n",
        "          or \n",
        "          (codigos_de_curso_e_habilitacao_NAO_consideradoS['codigo_curso'] == codigo_curso and\n",
        "          codigos_de_curso_e_habilitacao_NAO_consideradoS['codigo_habilitacao'] == codigo_habilitacao)\n",
        "          ):\n",
        "          validacao_do_curso = False\n",
        "\n",
        "      curso_valido = {'codigo_curso': codigo_curso, 'codigo_habilitacao':codigo_habilitacao,\n",
        "                        'nome_curso': nome_curso, 'nome_habilitacao': nome_habilitacao}\n",
        "\n",
        "      if validacao_do_curso == True and codigoS_de_cursoS_e_habilitacOES_consideradoS.count(curso_valido) == 0:\n",
        "\n",
        "        codigoS_de_cursoS_e_habilitacOES_consideradoS.append(curso_valido)\n",
        "\n",
        "  return codigoS_de_cursoS_e_habilitacOES_consideradoS\n",
        "\n",
        "def gerar_tabela_para_validar_dados(dicionario_contendo_cabecalho_coluna_e_valores, titulo_da_tabela, transpor_dados_da_tabela):\n",
        "  dataframe = pandas.DataFrame(data=dicionario_contendo_cabecalho_coluna_e_valores)\n",
        "  if(transpor_dados_da_tabela):\n",
        "    dataframe = dataframe.transpose()\n",
        "  print('\\n{}\\n'.format(titulo_da_tabela))\n",
        "  display(dataframe)\n",
        "  print('')\n",
        "\n",
        "cursos_nao_validos = [\n",
        "    {'codigo_curso':90011},\n",
        "    {'codigo_curso':18062},\n",
        "    {'codigo_curso':18023, 'codigo_habilitacao':100},\n",
        "    {'codigo_curso':18023, 'codigo_habilitacao':200},\n",
        "]\n",
        "\n",
        "codigos_de_cursos_e_habilitacoes_considerados_da_EESC = retornar_codigos_de_cursos_e_habilitacoes_considerados_da_EESC(cursos_nao_validos)"
      ],
      "execution_count": null,
      "outputs": []
    },
    {
      "cell_type": "markdown",
      "metadata": {
        "id": "cMBelkYhSENR"
      },
      "source": [
        "##Função plotar_grafico_circular_em_relacao_a_tipo_de_ingresso()\n",
        "\n",
        "###Objetivo:\n",
        "\n",
        "\n",
        "Criar um gráfico circular ou de setor contendo:\n",
        "* O número de alunos que ingressaram pela Fuvest.\n",
        "* O número de alunos que ingressaram pelo SISU.\n",
        "* O número de alunos que ingressaram através de outra forma.\n",
        "\n",
        "Os cursos considerados estão na lista de cursos considerados, citada acima.\n"
      ]
    },
    {
      "cell_type": "code",
      "metadata": {
        "id": "Lk8FcqPHUjhk"
      },
      "source": [
        "#O nome antigo dessa função era plotFormaIngresso\n",
        "def plotar_grafico_circular_em_relacao_a_tipo_de_ingresso(lista_de_codigos_de_cursos_e_habilitacoes, titulo_do_grafico):\n",
        "\n",
        "  coluna_codigo_curso = spreadsheet.col_values(EESC.CODIGO_CURSO.value)[1:]\n",
        "  \n",
        "  coluna_codigo_habilitacao = spreadsheet.col_values(EESC.CODIGO_HABILITACAO.value)[1:]\n",
        "\n",
        "  coluna_tipo_ingresso = spreadsheet.col_values(EESC.TIPO_INGRESSO.value)[1:]\n",
        "\n",
        "  qntdd_de_alunos_ingressados_pelo_SiSU = 0\n",
        "  qntdd_de_alunos_ingressados_pela_Fuvest = 0\n",
        "  qntdd_de_alunos_ingressados_por_outra_forma = 0\n",
        "  \n",
        "  for codigo_curso, codigo_habilitacao, tipo_ingresso in zip(coluna_codigo_curso, coluna_codigo_habilitacao, coluna_tipo_ingresso):\n",
        "    if {'codigo_curso':codigo_curso, 'codigo_habilitacao':codigo_habilitacao} in lista_de_codigos_de_cursos_e_habilitacoes: \n",
        "      if tipo_ingresso.find('SISU')!= -1:\n",
        "        qntdd_de_alunos_ingressados_pelo_SiSU +=1\n",
        "      elif tipo_ingresso.find('Vestibular')!= -1:\n",
        "        qntdd_de_alunos_ingressados_pela_Fuvest +=1\n",
        "      else:\n",
        "        qntdd_de_alunos_ingressados_por_outra_forma+=1\n",
        "\n",
        "  plt.pie([qntdd_de_alunos_ingressados_pelo_SiSU, qntdd_de_alunos_ingressados_pela_Fuvest, qntdd_de_alunos_ingressados_por_outra_forma], \n",
        "          labels=['SiSU','Fuvest','Outros'], colors = ['C1','C0','C2'], autopct='%1.1f%%', startangle=90)\n",
        "  plt.axis('equal')\n",
        "  plt.title(titulo_do_grafico)\n",
        "  plt.figure(figsize=(15,10))\n",
        "  # Salvando o gráfico\n",
        "  #nome_arquivo = 'Gráfico sobre a Quantidade de Alunos em Relação ao Tipo de Ingresso desde 2015 até 2020'\n",
        "  #extensao_arq = '.jpg'\n",
        "  #diretorio = '/content/drive/MyDrive/Colab Notebooks/EESC Gráficos/Gráficos sobre a Quantidade de Alunos em Relação ao Tipo de Ingresso/'+nome_arquivo+extensao_arq\n",
        "  #plt.savefig(diretorio, dpi = 200)\n",
        "\n",
        "  plt.show()"
      ],
      "execution_count": null,
      "outputs": []
    },
    {
      "cell_type": "code",
      "metadata": {
        "id": "fw64K3S2Yrky"
      },
      "source": [
        "#OBS: Curso de engenharia mecânica com código 18062 pode apresentar duplicidade.\n",
        "#OBS: Escolheu-se utilizar a habilitação 0, núcleo geral, para selecionar os alunos presentes em outras habilitações do 18062\n",
        "codigos_de_cursos_e_habilitacoes_da_mecanica = [\n",
        "                                                  {'codigo_curso': 18062, 'codigo_habilitacao':0},\n",
        "                                                  {'codigo_curso': 18063, 'codigo_habilitacao':0}\n",
        "                                                ]\n",
        "codigos_de_cursos_e_habilitacoes_da_mecatronica= [{'codigo_curso': 18250, 'codigo_habilitacao':0}]\n",
        "\n",
        "plotar_grafico_circular_em_relacao_a_tipo_de_ingresso(codigos_de_cursos_e_habilitacoes_da_mecanica, 'Gráfico Circular do Curso Engenharia Mecânica')\n",
        "plotar_grafico_circular_em_relacao_a_tipo_de_ingresso(codigos_de_cursos_e_habilitacoes_da_mecatronica, 'Gráfico Circular do Curso Engenharia Mecatrônica')"
      ],
      "execution_count": null,
      "outputs": []
    },
    {
      "cell_type": "markdown",
      "source": [
        "##Função plotar_grafico_circular_em_relacao_beneficio_dos_alunos()\n",
        "\n",
        "###Objetivo:\n",
        "\n",
        "Criar um gráfico de setor ou circular contendo a quantidade de alunos que possuem algum benefício e a quantidade de alunos que NÃO possuem benefícios.\n",
        "\n",
        "\n",
        "Os cursos considerados estão na lista de cursos considerados, citada acima."
      ],
      "metadata": {
        "id": "LOu4gmLIInvO"
      }
    },
    {
      "cell_type": "code",
      "source": [
        "#nome antigo dessa funcao era plotBolsa\n",
        "def plotar_grafico_circular_em_relacao_beneficio_dos_alunos(lista_de_codigos_de_cursos_e_habilitacoes, titulo_do_grafico):\n",
        "  \n",
        "  coluna_codigo_curso = spreadsheet.col_values(EESC.CODIGO_CURSO.value)[1:]\n",
        "  coluna_codigo_habilitacao = spreadsheet.col_values(EESC.CODIGO_HABILITACAO.value)[1:]\n",
        "  \n",
        "  coluna_beneficio = spreadsheet.col_values(EESC.BENEFICIO.value)[1:]\n",
        "\n",
        "  quantidade_total_alunos = 0\n",
        "  quantidade_alunos_sem_beneficio = 0\n",
        "\n",
        "  for codigo_curso, codigo_habilitacao, valor_beneficio in zip(coluna_codigo_curso, coluna_codigo_habilitacao, coluna_beneficio):\n",
        "    if {'codigo_curso':codigo_curso, 'codigo_habilitacao':codigo_habilitacao} in lista_de_codigos_de_cursos_e_habilitacoes: \n",
        "      quantidade_total_alunos += 1\n",
        "      if valor_beneficio.find('não')!= -1:\n",
        "        quantidade_alunos_sem_beneficio +=1\n",
        "\n",
        "  plt.pie([quantidade_total_alunos-quantidade_alunos_sem_beneficio, quantidade_alunos_sem_beneficio], labels=['Com Benefício', 'Sem Benefício'], autopct='%1.1f%%', startangle=90)\n",
        "  plt.axis('equal')\n",
        "  plt.show()"
      ],
      "metadata": {
        "id": "_36xytVGImfu"
      },
      "execution_count": null,
      "outputs": []
    },
    {
      "cell_type": "code",
      "source": [
        "lista_de_dicionarios_de_cursos_e_habilitacoes_da_mecanica = [\n",
        "                                                  {'codigo_curso': 18062, 'codigo_habilitacao':0},\n",
        "                                                  {'codigo_curso': 18063, 'codigo_habilitacao':0}\n",
        "                                                ]\n",
        "plotar_grafico_circular_em_relacao_beneficio_dos_alunos()"
      ],
      "metadata": {
        "id": "rAicTSQYIujA"
      },
      "execution_count": null,
      "outputs": []
    },
    {
      "cell_type": "markdown",
      "source": [
        "##Função plotar_grafico_de_histograma_em_relacao_ao_numero_de_reprovacoes_de_cada_aluno()\n",
        "\n",
        "###Objetivo:\n",
        "\n",
        "Criar um gráfico do tipo histograma em relação a quantidade de reprovações de cada aluno.\n",
        "\n",
        "Os cursos considerados estão na lista de cursos considerados, citada no início do arquivo.\n"
      ],
      "metadata": {
        "id": "KC_408qFKGvb"
      }
    },
    {
      "cell_type": "code",
      "source": [
        "# nome antigo dessa função é plotReprovas()\n",
        "\n",
        "# mostrar_zero_reprovacoes: True, mostra alunos com 0 reprovações; False, não mostra alunos com 0 reprovações\n",
        "def plotar_grafico_de_histograma_em_relacao_ao_numero_de_reprovacoes_de_cada_aluno(mostrar_zero_reprovacoes):\n",
        "\n",
        "  coluna_cursos = spreadsheet.col_values(EESC.CURSO.value)[1:]\n",
        "\n",
        "  coluna_reprovacoes = spreadsheet.col_values(EESC.REPROVADAS.value)[1:]\n",
        "\n",
        "  lista_reprovacoes_por_aluno = []\n",
        "  \n",
        "  for curso, reprovacoes in zip(coluna_cursos, coluna_reprovacoes):\n",
        "    if curso in lista_cursos_considerados:\n",
        "      lista_reprovacoes_por_aluno.append(int(reprovacoes))\n",
        "  \n",
        "  if mostrar_zero_reprovacoes == False:\n",
        "    lista_reprovacoes_por_aluno = [qntdd_reprovacoes for qntdd_reprovacoes in lista_reprovacoes_por_aluno if qntdd_reprovacoes != 0]\n",
        "  \n",
        "  plt.figure(figsize=(15,10))\n",
        "  plt.xlabel('Número de Reprovações')\n",
        "  plt.ylabel('Número de Alunos')\n",
        "  plt.hist(lista_reprovacoes_por_aluno, max(lista_reprovacoes_por_aluno), facecolor='blue', edgecolor='black', alpha=0.5)\n",
        "  plt.show()"
      ],
      "metadata": {
        "id": "MCAKuLAsKHmz"
      },
      "execution_count": null,
      "outputs": []
    },
    {
      "cell_type": "code",
      "source": [
        "plotar_grafico_de_histograma_em_relacao_ao_numero_de_reprovacoes_de_cada_aluno(True)"
      ],
      "metadata": {
        "id": "t1qTN65HMvX2"
      },
      "execution_count": null,
      "outputs": []
    },
    {
      "cell_type": "markdown",
      "source": [
        "<h2>Função plotar_grafico_de_barras_em_relacao_aos_alunos_sem_beneficio()</h2>\n",
        "\n",
        "<h3>Objetivo:</h3>\n",
        "\n",
        "\n",
        "Criar um gráfico de barras mostrando a quantidade de alunos sem benefício por curso.\n",
        "\n",
        "Os cursos considerados são:\n",
        "<ul>\n",
        "<li>Licenciatura em Ciências Exatas/Habilitação em Química </li>\n",
        "<li>Licenciatura em Ciências Exatas/Habilitação em Matemática</li>\n",
        "<li>Engenharia Civil/Dupla Formação EESC - IAU</li>\n",
        "<li>Engenharia Mecânica/Engenharia Mecânica - Núcleo Geral</li>\n",
        "<li>Engenharia Mecânica/Ênfase Mecânica Plena</li>\n",
        "</ul>\n",
        "\n"
      ],
      "metadata": {
        "id": "x1gmnX2rLFBp"
      }
    },
    {
      "cell_type": "code",
      "source": [
        "#O nome antigo dessa função era listarSisuEESC\n",
        "def plotar_grafico_de_barras_em_relacao_aos_alunos_sem_beneficio():\n",
        "  \n",
        "  coluna_cursos = spreadsheet.col_values(EESC.CURSO.value)[1:]\n",
        "  coluna_bolsas = spreadsheet.col_values(EESC.BENEFICIO.value)[1:]\n",
        "\n",
        "  cursos_considerados = ['Licenciatura em Ciências Exatas/Habilitação em Química', 'Licenciatura em Ciências Exatas/Habilitação em Matemática', 'Engenharia Civil/Dupla Formação EESC - IAU',\n",
        "                         'Engenharia Mecânica/Engenharia Mecânica - Núcleo Geral', 'Engenharia Mecânica/Ênfase Mecânica Plena']\n",
        "  qntdd_alunos_nao_bolsista_por_curso = [0,0,0,0,0]\n",
        "\n",
        "  for curso_considerado in cursos_considerados:\n",
        "    for curso, bolsa in zip(coluna_cursos,coluna_bolsas):\n",
        "      if(curso.find(curso_considerado)!= -1 and bolsa.find('não')!= -1):\n",
        "        qntdd_alunos_nao_bolsista_por_curso[cursos_considerados.index(curso_considerado)] += 1\n",
        "\n",
        "  ticks_eixo_y = [max(qntdd_alunos_nao_bolsista_por_curso), max(qntdd_alunos_nao_bolsista_por_curso)*0.75, max(qntdd_alunos_nao_bolsista_por_curso)/2, max(qntdd_alunos_nao_bolsista_por_curso)/4,0]\n",
        "\n",
        "  fig = plt.figure()\n",
        "  ax = fig.add_axes([0,0,1,1])\n",
        "\n",
        "  ax.set_xlabel(\"Cursos\")\n",
        "  ax.set_xticklabels(cursos_considerados, rotation='vertical', fontsize=18)\n",
        "  ax.set_ylabel(\"Não bolsistas\")\n",
        "  ax.set_yticks(ticks_eixo_y)\n",
        "  ax.bar(cursos_considerados, qntdd_alunos_nao_bolsista_por_curso)\n",
        "  plt.show()"
      ],
      "metadata": {
        "id": "PZ-ud3AOLECh"
      },
      "execution_count": null,
      "outputs": []
    },
    {
      "cell_type": "code",
      "source": [
        "plotar_grafico_de_barras_em_relacao_aos_alunos_sem_beneficio()"
      ],
      "metadata": {
        "id": "l6E4-0RGM8N-"
      },
      "execution_count": null,
      "outputs": []
    },
    {
      "cell_type": "markdown",
      "source": [
        "##Função plotar_grafico_em_relacao_ao_tipo_de_ingresso_e_beneficio()\n",
        "\n",
        "---\n",
        "\n",
        "\n",
        "\n",
        "###Objetivo:\n",
        "\n",
        "Criar um gráfico do tipo plot(pontos ligados entre si) para cada curso. \n",
        "\n",
        "Cada gráfico contém:\n",
        "\n",
        "* A quantidade de alunos que possui algum benefício e ingressou pela Fuvest\n",
        "* A quantidade de alunos que NÃO possui benefício e ingressou pela Fuvest\n",
        "\n",
        "\n",
        "* A quantidade de alunos que possui algum benefício e ingressou pelo SISU\n",
        "* A quantidade de alunos que NÃO possui benefício e ingressou pela SISU\n",
        "\n",
        "\n",
        "Essas contagens foram feitas para cada ano a fim de acompanhar evolução e o ano 2015 não foi considerado.\n",
        "\n",
        "Os cursos considerados estão na lista de cursos considerados, citada no início do arquivo.\n",
        "\n",
        "\n"
      ],
      "metadata": {
        "id": "0JZXmIHRNVSu"
      }
    },
    {
      "cell_type": "code",
      "source": [
        "#O nome antigo dessa função era plotIngressoEESC\n",
        "def plotar_grafico_em_relacao_ao_tipo_de_ingresso_e_beneficio():\n",
        "  coluna_cursos = spreadsheet.col_values(EESC.CURSO.value)[1:]\n",
        "\n",
        "  coluna_ano_ingresso = spreadsheet.col_values(EESC.ANO.value)[1:]\n",
        "\n",
        "  coluna_forma_ingresso = spreadsheet.col_values(EESC.TIPO.value)[1:]\n",
        "\n",
        "  coluna_bolsas = spreadsheet.col_values(EESC.BENEFICIO.value)[1:]\n",
        "  \n",
        "  anos_de_ingresso = list(set(coluna_ano_ingresso))\n",
        "  anos_de_ingresso.sort()\n",
        "  anos_de_ingresso.remove(2015)\n",
        "\n",
        "  ano_minimo_ingresso = min(anos_de_ingresso)\n",
        "\n",
        "  cursos_considerados = lista_cursos_considerados\n",
        "\n",
        "  for curso_considerado in cursos_considerados:\n",
        "\n",
        "    qtdd_alunos_bolsistas_ingressados_pela_fuvest_por_ano = [0]* len(anos_de_ingresso)\n",
        "    qtdd_alunos_nao_bolsistas_ingressados_pela_fuvest_por_ano = [0]* len(anos_de_ingresso)\n",
        "\n",
        "    qtdd_alunos_bolsistas_ingressados_pelo_sisu_por_ano = [0]* len(anos_de_ingresso)\n",
        "    qtdd_alunos_nao_bolsistas_ingressados_pelo_sisu_por_ano = [0]* len(anos_de_ingresso)\n",
        "\n",
        "    qtdd_alunos_bolsistas_ingressados_de_outra_forma_por_ano = [0]* len(anos_de_ingresso)\n",
        "    qtdd_alunos_nao_bolsistas_ingressados_de_outra_forma_por_ano = [0]* len(anos_de_ingresso)\n",
        "\n",
        "    for curso, ano_ingresso, forma_ingresso, tipo_beneficio in zip(coluna_cursos, coluna_ano_ingresso, coluna_forma_ingresso, coluna_bolsas):\n",
        "      if (curso.find(curso_considerado) != -1) and (ano_ingresso in anos_de_ingresso):\n",
        "        if forma_ingresso.find('SISU')!= -1:\n",
        "          if tipo_beneficio.find('não') != -1:\n",
        "            qtdd_alunos_nao_bolsistas_ingressados_pelo_sisu_por_ano[int(ano_ingresso - ano_minimo_ingresso)]+=1\n",
        "          else:\n",
        "            qtdd_alunos_bolsistas_ingressados_pelo_sisu_por_ano[int(ano_ingresso - ano_minimo_ingresso)]+=1\n",
        "\n",
        "        elif forma_ingresso.find('Vestibular')!= -1:\n",
        "          if tipo_beneficio.find('não') != -1:\n",
        "            qtdd_alunos_nao_bolsistas_ingressados_pela_fuvest_por_ano[int(ano_ingresso - ano_minimo_ingresso)]+=1\n",
        "          else:\n",
        "            qtdd_alunos_bolsistas_ingressados_pela_fuvest_por_ano[int(ano_ingresso - ano_minimo_ingresso)]+=1\n",
        "        \n",
        "        else:\n",
        "          if tipo_beneficio.find('não') != -1:\n",
        "            qtdd_alunos_nao_bolsistas_ingressados_de_outra_forma_por_ano[int(ano_ingresso - ano_minimo_ingresso)]+=1\n",
        "          else:\n",
        "            qtdd_alunos_bolsistas_ingressados_de_outra_forma_por_ano[int(ano_ingresso - ano_minimo_ingresso)]+=1\n",
        "                                 \n",
        "    gerar_tabela_para_validar_dados({'Ano de ingresso':anos_de_ingresso,\n",
        "                                    'Fuvest COM Auxílio':qtdd_alunos_bolsistas_ingressados_pela_fuvest_por_ano,\n",
        "                                    'Fuvest SEM Auxílio': qtdd_alunos_nao_bolsistas_ingressados_pela_fuvest_por_ano,\n",
        "                                    'SISU COM Auxílio': qtdd_alunos_bolsistas_ingressados_pelo_sisu_por_ano,\n",
        "                                    'SISU SEM Auxílio': qtdd_alunos_nao_bolsistas_ingressados_pelo_sisu_por_ano,\n",
        "                                    'Outros COM Auxílio': qtdd_alunos_bolsistas_ingressados_de_outra_forma_por_ano,\n",
        "                                    'Outros SEM Auxílio': qtdd_alunos_nao_bolsistas_ingressados_de_outra_forma_por_ano}, curso_considerado, True)\n",
        "\n",
        "    fig = plt.figure(figsize = (15,10))\n",
        "    ax = fig.add_axes([0,0,1,1])\n",
        "\n",
        "    ax.plot(anos_de_ingresso,qtdd_alunos_bolsistas_ingressados_pela_fuvest_por_ano , label='Fuvest C/Auxilio', color='#001fa7', linewidth = 4, marker = 'o')\n",
        "    ax.plot(anos_de_ingresso,qtdd_alunos_nao_bolsistas_ingressados_pela_fuvest_por_ano, label='Fuvest S/Auxilio', color='#00ffd4', linewidth = 4, marker = 'o')\n",
        "\n",
        "    ax.plot(anos_de_ingresso,qtdd_alunos_bolsistas_ingressados_pelo_sisu_por_ano, label='SISU C/Auxilio', color='#0cb300', linewidth = 4, marker = 'o')\n",
        "    ax.plot(anos_de_ingresso,qtdd_alunos_nao_bolsistas_ingressados_pelo_sisu_por_ano, label='SISU S/Auxilio', color='#14f903', linewidth = 4, marker = 'o')\n",
        "    \n",
        "    ax.plot(anos_de_ingresso,qtdd_alunos_bolsistas_ingressados_de_outra_forma_por_ano, label='Outros C/Auxilio', color='#660000', linewidth = 4, marker = 'o')\n",
        "    ax.plot(anos_de_ingresso,qtdd_alunos_nao_bolsistas_ingressados_de_outra_forma_por_ano, label='Outros S/Auxilio', color='#ff0a0a', linewidth = 4, marker = 'o')\n",
        "    \n",
        "    ax.set_xticks(anos_de_ingresso)\n",
        "    ax.set_title(curso_considerado)\n",
        "    ax.set_xlabel(\"Ano de ingresso\")\n",
        "    ax.set_ylabel(\"Forma de ingresso\")\n",
        "    legenda = ax.legend(bbox_to_anchor=(1,1), loc=\"upper left\")\n",
        "\n",
        "    # Salvando o gráfico\n",
        "    #nome_arquivo = curso_considerado.replace('/','|')+' - Gráfico sobre a Quantidade de Alunos em Relação a Auxílio e Tipo de Ingresso desde 2016 até 2020'\n",
        "    #extensao_arq = '.jpg'\n",
        "    #diretorio = '/content/drive/MyDrive/Colab Notebooks/EESC Gráficos/Gráficos sobre a Quantidade de Alunos em Relação a Auxílio e Tipo de Ingresso desde 2016 até 2020/'+nome_arquivo+extensao_arq\n",
        "    #plt.savefig(diretorio, dpi = 200, bbox_extra_artists=[legenda], bbox_inches='tight')\n",
        "    \n",
        "    plt.show()"
      ],
      "metadata": {
        "id": "E2lCn5LxaKGI"
      },
      "execution_count": null,
      "outputs": []
    },
    {
      "cell_type": "code",
      "source": [
        "plotar_grafico_em_relacao_ao_tipo_de_ingresso_e_beneficio()"
      ],
      "metadata": {
        "id": "DNpDYP4laOz4"
      },
      "execution_count": null,
      "outputs": []
    },
    {
      "cell_type": "markdown",
      "source": [
        "##Função plotar_grafico_boxplot_em_relacao_a_medias_de_alunos_por_categoria()\n",
        "\n",
        "---\n",
        "\n",
        "\n",
        "\n",
        "###Objetivo:\n",
        "\n",
        "Criar um gráfico do tipo plotbox ou Diagrama de Caixa para cada uma das seguintes categorias:\n",
        "* Médias dos alunos com benefício.\n",
        "* Médias dos alunos sem benefício\n",
        "* Médias dos alunos que ingressaram através do SISU.\n",
        "* Médias dos alunos que ingressaram através da Fuvest.\n",
        "\n",
        "Os cursos considerados estão na lista de cursos considerados, citada no início do arquivo."
      ],
      "metadata": {
        "id": "RuskjhHCZM0Y"
      }
    },
    {
      "cell_type": "code",
      "source": [
        "import warnings\n",
        "warnings.filterwarnings('ignore') # Fiz isso para esconder mensagem de aviso de Depreciação mostrada pela biblioteca Numpy em relação a linha 6 quando um objeto ndarray\n",
        "# é retornado pela função quantile. Pelo que entendi o Warning aparece devido a forma que o objeto é construído, que deveria ser explicita a propriedade dtype = object\n",
        "# Tentei de vários modos deixar isso explicito, mas a mensagem não foi removida.\n",
        "\n",
        "# A função abaixo foi criada para saber as coordenadas Y para inserir texto no gráfico. Para isso precisei calcular os valores de Y do gráfico manualmente.\n",
        "def calcular_valores_de_quartis_e_limites_do_grafico_boxplot(lista_de_medias):\n",
        "  \n",
        "  valores_dos_quartis = numpy.quantile(lista_de_medias, [0.25, 0.50, 0.75]).tolist()\n",
        "\n",
        "  amplitude_interquartil = valores_dos_quartis[2] - valores_dos_quartis[0]\n",
        "\n",
        "  limite_inferior = valores_dos_quartis[0] - 1.5 * amplitude_interquartil\n",
        " \n",
        "  limite_superior = valores_dos_quartis[2] + 1.5 * amplitude_interquartil\n",
        "  \n",
        "  lista_de_medias_dentro_dos_limites = [media for media in lista_de_medias if media > limite_inferior and media < limite_superior] # intervalo aberto\n",
        "  if len(lista_de_medias_dentro_dos_limites) != 0: # caso a lista de medias só contenha 0, a variavel anterior retornará uma lista vazia.\n",
        "    valor_do_limite_inferior = min(lista_de_medias_dentro_dos_limites)\n",
        "    valor_do_limite_superior = max(lista_de_medias_dentro_dos_limites)\n",
        "  else:\n",
        "    valor_do_limite_inferior = 0\n",
        "    valor_do_limite_superior = 0\n",
        "  \n",
        "  todos_valores = {'L.I':valor_do_limite_inferior, '1°Q':valores_dos_quartis[0], 'M':valores_dos_quartis[1], '3°Q':valores_dos_quartis[2],'L.S':valor_do_limite_superior}\n",
        "  return todos_valores\n",
        "\n",
        "def plotar_grafico_boxplot_em_relacao_a_medias_de_alunos_por_categoria():\n",
        "  coluna_curso = spreadsheet.col_values(EESC.CURSO.value)[1:]\n",
        "  \n",
        "  cursos_considerados = lista_cursos_considerados\n",
        "\n",
        "  coluna_tipo_de_ingresso = spreadsheet.col_values(EESC.TIPO.value)[1:]\n",
        "\n",
        "  coluna_beneficio = spreadsheet.col_values(EESC.BENEFICIO.value)[1:]\n",
        "\n",
        "  coluna_media_suja = spreadsheet.col_values(EESC.MEDIA_SUJA.value)[1:]\n",
        "  \n",
        "  for curso_considerado in cursos_considerados:\n",
        "    lista_de_medias_de_alunos_COM_beneficio = []\n",
        "    lista_de_medias_de_alunos_SEM_beneficio = []\n",
        "    lista_de_medias_de_alunos_ingresso_SISU = []\n",
        "    lista_de_medias_de_alunos_ingresso_Fuvest = []\n",
        "    lista_de_medias_de_alunos_ingresso_Outros = []\n",
        "  \n",
        "    for curso, beneficio, tipo_de_ingresso, media_suja in zip(coluna_curso, coluna_beneficio, coluna_tipo_de_ingresso, coluna_media_suja):\n",
        "      if(curso == curso_considerado):\n",
        "        if(beneficio.find('não')!= -1):\n",
        "          lista_de_medias_de_alunos_SEM_beneficio.append(media_suja)\n",
        "        else:\n",
        "          lista_de_medias_de_alunos_COM_beneficio.append(media_suja)\n",
        "\n",
        "        if(tipo_de_ingresso.find('SISU')!= -1):\n",
        "          lista_de_medias_de_alunos_ingresso_SISU.append(media_suja)\n",
        "          \n",
        "        elif(tipo_de_ingresso.find('Vestibular')!= -1):\n",
        "         lista_de_medias_de_alunos_ingresso_Fuvest.append(media_suja)\n",
        "\n",
        "        else:\n",
        "          lista_de_medias_de_alunos_ingresso_Outros.append(media_suja)\n",
        "\n",
        "    figure = plt.figure(figsize = (10,5))\n",
        "    axe = figure.add_axes([0,0,1,1])\n",
        "  \n",
        "    axe.set_title(curso_considerado)\n",
        "    axe.set_ylabel('Média suja dos alunos')\n",
        "    axe.set_xlabel('Categorias dos Alunos')\n",
        "  \n",
        "    lista_de_lista_de_medias = [lista_de_medias_de_alunos_SEM_beneficio, lista_de_medias_de_alunos_COM_beneficio,\n",
        "                                lista_de_medias_de_alunos_ingresso_SISU, lista_de_medias_de_alunos_ingresso_Fuvest, \n",
        "                                lista_de_medias_de_alunos_ingresso_Outros]\n",
        "    \n",
        "    etiquetas_dos_graficos = ['Sem benefício', 'Com benefício',\n",
        "                              'SiSU', 'Fuvest', \n",
        "                              'Outros'\n",
        "                              ]\n",
        "    \n",
        "    # Plotando gráfico\n",
        "    coordenadas_x_dos_boxplots = [1, 3.4, 5.8, 8.2, 10.6]\n",
        "    axe.boxplot(lista_de_lista_de_medias, labels = etiquetas_dos_graficos, positions = coordenadas_x_dos_boxplots)\n",
        "    print('\\n')\n",
        "    \n",
        "    # Inserindo textos de valores para os quartis e limites\n",
        "    incremento_y = (axe.get_ylim()[1] - axe.get_ylim()[0]) * 0.01 # para facilitar visualização no eixo y, proporcional ao tamano do eixo Y\n",
        "\n",
        "    for lista_de_medias in lista_de_lista_de_medias:\n",
        "        if len(lista_de_medias) != 0: # Para evitar erros relacionado a lista vazia.\n",
        "          coordenadaS_y = calcular_valores_de_quartis_e_limites_do_grafico_boxplot(lista_de_medias)\n",
        "          coordenada_x = coordenadas_x_dos_boxplots[lista_de_lista_de_medias.index(lista_de_medias)]# mesma coordenada x para todas as medias\n",
        "          # Isso é feito por que para cada lista da lista de media é gerado um grafico\n",
        "          # Cada lista da lista tem seu indice e sua posição é indicada pelo mesmo indice na lista de posições\n",
        "  \n",
        "          ultima_coordenada_y = coordenadaS_y['L.I'] + 1 * 10000 # para fazer com que a primeira verificação de repetição não considere uma repetição\n",
        "          # numero alto porque dificilmente o limite inferior será maior que 10, se o limite inferior for igual a 0 é necessario adicionar +1 porque 10000 * 0 = 0\n",
        "          numero_repeticoes = 0\n",
        "          for chave, coordenada_y in coordenadaS_y.items(): # metodo items retorna uma lista com uma tupla para cada par de chave e valor do dicionario\n",
        "            if abs(ultima_coordenada_y - coordenada_y) < 0.1: # mede distância entre duas coordenadas no eixo Y\n",
        "              numero_repeticoes+=1\n",
        "              axe.text(coordenada_x+0.6 * numero_repeticoes, coordenada_y+incremento_y, chave+': {:.2f}'.format(coordenada_y)) # Conforme vai havendo repetições a distância vai aumentando\n",
        "            else:\n",
        "              # Adicionando 0.01 e 0.1 nas coordenadas para facilitar a leitura\n",
        "              numero_repeticoes=0\n",
        "              axe.text(coordenada_x+0.03, coordenada_y+incremento_y, chave+': {:.2f}'.format(coordenada_y))\n",
        "            ultima_coordenada_y = coordenada_y\n",
        "\n",
        "    # Salvando o gráfico\n",
        "    #nome_arquivo = curso_considerado.replace('/','|')+' - Gráfico do Tipo Diagrama de Caixa em Relação às Médias Sujas dos Alunos por Categoria desde 2015 até 2020'\n",
        "    #extensao_arq = '.jpg'\n",
        "    #diretorio = '/content/drive/MyDrive/Colab Notebooks/EESC Gráficos/Gráficos do Tipo Diagrama de Caixa em Relação às Médias Sujas dos Alunos por Categoria desde 2015 até 2020/'+nome_arquivo+extensao_arq\n",
        "    #plt.savefig(diretorio, dpi = 200)\n",
        "    plt.show()"
      ],
      "metadata": {
        "id": "GOG0vX2DanmW"
      },
      "execution_count": null,
      "outputs": []
    },
    {
      "cell_type": "code",
      "source": [
        "plotar_grafico_boxplot_em_relacao_a_medias_de_alunos_por_categoria()"
      ],
      "metadata": {
        "id": "Q62IvSKOOftO"
      },
      "execution_count": null,
      "outputs": []
    }
  ]
}